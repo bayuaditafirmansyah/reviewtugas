{
 "cells": [
  {
   "cell_type": "markdown",
   "metadata": {
    "collapsed": false
   },
   "source": [
    "# <font color=blue>Materi 1 </font>\n",
    "*Review Algoritma Pemrograman*\n",
    "***"
   ]
  },
  {
   "cell_type": "markdown",
   "metadata": {
    "collapsed": false
   },
   "source": [
    "Materi Alpro semester 1 :\n",
    "1. [Variabel dan Tipe Data](#Variabel-dan-Tipe-Data)\n",
    "2. [Jenis Algoritma](#Jenis-Algoritma)\n",
    "3. [String-List-Tuple](#String,-List,-dan-Tuple)\n",
    "4. [Dictionary](#Dictionary)\n",
    "5. [Fungsi](#Fungsi)\n",
    "6. [Modul](#Modul)\n"
   ]
  },
  {
   "cell_type": "markdown",
   "metadata": {
    "collapsed": false
   },
   "source": [
    "## Variabel dan Tipe Data\n",
    "\n",
    "Variable merupakan suatu inisialisasi atau identitas yang menampilkan nilai dengan tipe data tertentu sedangkan tipe data adalah kelompok data dengan jenis-jenis tertentu. Tipe data ada bermacam-macam antara lain :integer,float,string,dan Boolean.  Pada  variabel dapat dilakukan operasi data dengan menggunakan operasi tertentu. Operasi dapat dilakukan hanya pada variabel-variabel yang mempunyai tipe data yang sama atau hampir sama (seperti integer dengan float)\n"
   ]
  },
  {
   "cell_type": "markdown",
   "metadata": {
    "collapsed": false
   },
   "source": [
    "### Code\n",
    "\n",
    "Berikut adalah contoh-contoh code inisialisasi dan informasi type data dengna menggunakan syntax **type** untuk masing-masing tipe data"
   ]
  },
  {
   "cell_type": "code",
   "execution_count": 6,
   "metadata": {
    "collapsed": false
   },
   "outputs": [
    {
     "data": {
      "text/plain": [
       "int"
      ]
     },
     "execution_count": 6,
     "metadata": {
     },
     "output_type": "execute_result"
    }
   ],
   "source": [
    "angka = 5\n",
    "type(angka)"
   ]
  },
  {
   "cell_type": "code",
   "execution_count": 7,
   "metadata": {
    "collapsed": false
   },
   "outputs": [
    {
     "data": {
      "text/plain": [
       "float"
      ]
     },
     "execution_count": 7,
     "metadata": {
     },
     "output_type": "execute_result"
    }
   ],
   "source": [
    "koma = 0.123\n",
    "type(koma)"
   ]
  },
  {
   "cell_type": "code",
   "execution_count": 8,
   "metadata": {
    "collapsed": false
   },
   "outputs": [
    {
     "data": {
      "text/plain": [
       "str"
      ]
     },
     "execution_count": 8,
     "metadata": {
     },
     "output_type": "execute_result"
    }
   ],
   "source": [
    "huruf = \"Makan Soto\"\n",
    "type(huruf)"
   ]
  },
  {
   "cell_type": "code",
   "execution_count": 9,
   "metadata": {
    "collapsed": false
   },
   "outputs": [
    {
     "data": {
      "text/plain": [
       "bool"
      ]
     },
     "execution_count": 9,
     "metadata": {
     },
     "output_type": "execute_result"
    }
   ],
   "source": [
    "boolean = True\n",
    "type(boolean)"
   ]
  },
  {
   "cell_type": "markdown",
   "metadata": {
    "collapsed": false
   },
   "source": [
    "## Jenis Algoritma\n",
    "Berikut adalah beberapa macam algoritma dasar"
   ]
  },
  {
   "cell_type": "markdown",
   "metadata": {
    "collapsed": false
   },
   "source": [
    "## Sequential (Berurutan)\n",
    "- *merupakan algoritma yang dilakukan secara berurutan, dari awal hingga akhir.*"
   ]
  },
  {
   "cell_type": "code",
   "execution_count": 21,
   "metadata": {
    "cocalc": {
     "outputs": {
      "0": {
       "name": "input",
       "opts": {
        "password": false,
        "prompt": "Masukkan Bilangan = "
       },
       "output_type": "stream",
       "value": "10"
      },
      "1": {
       "name": "input",
       "opts": {
        "password": false,
        "prompt": "Jumlah pangkat = "
       },
       "output_type": "stream",
       "value": "1"
      }
     }
    },
    "collapsed": false
   },
   "outputs": [
    {
     "name": "stdout",
     "output_type": "stream",
     "text": "Masukkan Bilangan =  10"
    },
    {
     "name": "stdout",
     "output_type": "stream",
     "text": "Jumlah pangkat =  1"
    },
    {
     "name": "stdout",
     "output_type": "stream",
     "text": [
      "hasil 10\n"
     ]
    }
   ],
   "source": [
    "#mencari hasil pangkat\n",
    "a = int(input(\"Masukkan Bilangan = \"))\n",
    "b = int(input(\"Jumlah pangkat = \"))\n",
    "hasil = a**b\n",
    "print(\"hasil\",hasil)"
   ]
  },
  {
   "cell_type": "markdown",
   "metadata": {
    "collapsed": false
   },
   "source": [
    "## Branching (Percabangan) \n",
    "- *merupakan algoritma yang memuat pilihan kondisi yaitu true dan false. Apabila memenuhi kondisi true maka syntax akan dieksekusi, dan begitu sebaliknya.*"
   ]
  },
  {
   "cell_type": "code",
   "execution_count": 29,
   "metadata": {
    "cocalc": {
     "outputs": {
      "0": {
       "name": "input",
       "opts": {
        "password": false,
        "prompt": "Masukkan Hari = "
       },
       "output_type": "stream",
       "value": "Senin"
      }
     }
    },
    "collapsed": false
   },
   "outputs": [
    {
     "name": "stdout",
     "output_type": "stream",
     "text": "Masukkan Hari =  Senin"
    },
    {
     "name": "stdout",
     "output_type": "stream",
     "text": [
      "Saya akan kuliah\n"
     ]
    }
   ],
   "source": [
    "#Jadwal kegiatan setiap hari\n",
    "\n",
    "hari_ini = (input(\"Masukkan Hari = \"))\n",
    "\n",
    "if(hari_ini == \"Senin\"):\n",
    "    print(\"Saya akan kuliah\")\n",
    "elif(hari_ini == \"Selasa\"):\n",
    "    print(\"Saya akan kuliah\")\n",
    "elif(hari_ini == \"Rabu\"):\n",
    "    print(\"Saya akan kuliah\")\n",
    "elif(hari_ini == \"Kamis\"):\n",
    "    print(\"Saya akan kuliah\")\n",
    "elif(hari_ini == \"Jumat\"):\n",
    "    print(\"Saya akan kuliah\")\n",
    "elif(hari_ini == \"Sabtu\"):\n",
    "    print(\"Saya libur\")\n",
    "elif(hari_ini == \"Minggu\"):\n",
    "    print(\"Saya libur\")"
   ]
  },
  {
   "cell_type": "markdown",
   "metadata": {
    "collapsed": false
   },
   "source": [
    "## Iteration/Looping(Perulangan) \n",
    "- *merupakan terjadinya proses eksekusi secara berulang-ulang selama kondisi bernilai True. Jika kondisi sudah terpenuhi dalam artian kondisi False maka proses iterasi akan dihentikan.*"
   ]
  },
  {
   "cell_type": "code",
   "execution_count": 31,
   "metadata": {
    "cocalc": {
     "outputs": {
      "0": {
       "name": "input",
       "opts": {
        "password": false,
        "prompt": "masukkan jumlah deret = "
       },
       "output_type": "stream",
       "value": "10"
      }
     }
    },
    "collapsed": false
   },
   "outputs": [
    {
     "name": "stdout",
     "output_type": "stream",
     "text": "masukkan jumlah deret =  10"
    },
    {
     "name": "stdout",
     "output_type": "stream",
     "text": [
      "0\n",
      "1\n",
      "1\n",
      "2\n",
      "3\n",
      "5\n",
      "8\n",
      "13\n",
      "21\n",
      "34\n"
     ]
    }
   ],
   "source": [
    "#Deret Fibonaci\n",
    "counter=2\n",
    "number=int(input(\"masukkan jumlah deret = \"))\n",
    "if number==1:\n",
    "    print('0')\n",
    "elif number>0:\n",
    "    print('0')\n",
    "    print('1')\n",
    "    a=0\n",
    "    b=1\n",
    "    while counter<number:\n",
    "        a=a+b\n",
    "        print(a)\n",
    "        counter=counter+1\n",
    "        if counter<number:\n",
    "            b=a+b\n",
    "            print(b)\n",
    "            counter=counter+1"
   ]
  },
  {
   "cell_type": "markdown",
   "metadata": {
    "collapsed": false
   },
   "source": [
    "## String, List, dan Tuple\n",
    "- String merupakan suatu tipe data yang digunakan untuk menampung kumpulan dari karakter.\n",
    "- List merupakan struktur data yang setiap elemen-elemen berurutan akan diberi nomor posisi atau indeksnya dengan berbagai tipe data.\n",
    "- Tuple merupakan urutan objek Python yang tidak berubah\n"
   ]
  },
  {
   "cell_type": "markdown",
   "metadata": {
    "collapsed": false
   },
   "source": [
    "## Dictionary\n",
    "- adalah stuktur data yang bentuknya seperti kamus. Ada kata kunci kemudian ada nilaninya. Menggunakan index dan string."
   ]
  },
  {
   "cell_type": "code",
   "execution_count": 32,
   "metadata": {
    "collapsed": false
   },
   "outputs": [
    {
     "name": "stdout",
     "output_type": "stream",
     "text": [
      "dict['Name']:  marsya\n",
      "dict['Age']:  7\n"
     ]
    }
   ],
   "source": [
    "#Contoh cara membuat Dictionary pada Python\n",
    "\n",
    "dict = {'Name': 'marsya', 'Age': 7, 'Class': 'First'}\n",
    "print (\"dict['Name']: \", dict['Name'])\n",
    "print (\"dict['Age']: \", dict['Age'])"
   ]
  },
  {
   "cell_type": "markdown",
   "metadata": {
    "collapsed": false
   },
   "source": [
    "## Fungsi\n",
    "- adalah blok kode yang sudah terorganisir dan dapat digunakan kembali untuk melakukan sebuah tindakan atau action dan memberikan modularitas yang lebih baik."
   ]
  },
  {
   "cell_type": "code",
   "execution_count": 0,
   "metadata": {
    "collapsed": false
   },
   "outputs": [
   ],
   "source": [
    "# Membuat Fungsi\n",
    "def makan():\n",
    "    print \"Maaf, Anda sudah makan\"\n",
    "\n",
    "## Pemanggilan Fungsi\n",
    "makan()\n",
    "makan()\n",
    "makan()"
   ]
  },
  {
   "cell_type": "markdown",
   "metadata": {
    "collapsed": false
   },
   "source": [
    "## Modul\n",
    "- adalah sebuah file yang terdiri dari kode python dan juga objek Python dengan atribut yang diberi nama yang bisa Anda bind dan dijadikan referensi.\n"
   ]
  },
  {
   "cell_type": "code",
   "execution_count": 35,
   "metadata": {
    "collapsed": false
   },
   "outputs": [
    {
     "ename": "NameError",
     "evalue": "name 'items' is not defined",
     "output_type": "error",
     "traceback": [
      "\u001b[0;31m---------------------------------------------------------------------------\u001b[0m",
      "\u001b[0;31mNameError\u001b[0m                                 Traceback (most recent call last)",
      "\u001b[0;32m<ipython-input-35-a6155ac84a9a>\u001b[0m in \u001b[0;36m<module>\u001b[0;34m()\u001b[0m\n\u001b[1;32m      1\u001b[0m \u001b[0;32mfrom\u001b[0m \u001b[0mtqdm\u001b[0m \u001b[0;32mimport\u001b[0m \u001b[0mtqdm\u001b[0m\u001b[0;34m\u001b[0m\u001b[0;34m\u001b[0m\u001b[0m\n\u001b[1;32m      2\u001b[0m \u001b[0;34m\u001b[0m\u001b[0m\n\u001b[0;32m----> 3\u001b[0;31m \u001b[0;32mfor\u001b[0m \u001b[0mitem\u001b[0m \u001b[0;32min\u001b[0m \u001b[0mtqdm\u001b[0m\u001b[0;34m(\u001b[0m\u001b[0mitems\u001b[0m\u001b[0;34m)\u001b[0m\u001b[0;34m:\u001b[0m\u001b[0;34m\u001b[0m\u001b[0;34m\u001b[0m\u001b[0m\n\u001b[0m\u001b[1;32m      4\u001b[0m     \u001b[0mprocess\u001b[0m\u001b[0;34m(\u001b[0m\u001b[0mitem\u001b[0m\u001b[0;34m)\u001b[0m\u001b[0;34m\u001b[0m\u001b[0;34m\u001b[0m\u001b[0m\n",
      "\u001b[0;31mNameError\u001b[0m: name 'items' is not defined"
     ]
    }
   ],
   "source": [
    "#contoh mengakses modul tas\n",
    "from tas import tas\n",
    "\n",
    "for item in tas(items):\n",
    "    process(item)"
   ]
  },
  {
   "cell_type": "markdown",
   "metadata": {
    "collapsed": false
   },
   "source": [
    "# <font color=blue>Materi 2 </font>\n",
    "*Stacks*\n",
    "***"
   ]
  },
  {
   "cell_type": "markdown",
   "metadata": {
    "collapsed": false
   },
   "source": [
    "## 1. Stack\n",
    "- Merupakan tumpukan atau kumpulan elemen-elemen data yang disimpan dalam satu lajur linear. Stack mempunyai sifat LIFO (Last In First Out),yaitu data yang terakhir masuk ke dalam stack akan menjadi data pertama yang dikeluarkan dari stack. \n",
    "+ Contohnya adalah saat kita menumpuk buku, dengan hal ini kita akan mengambil yang paling atas dan yang kita taruh juga akan berada pada posisi paling atas"
   ]
  },
  {
   "cell_type": "markdown",
   "metadata": {
    "collapsed": false
   },
   "source": [
    "Contoh Operasi dasar pada stack :\n",
    "1. Stack () :Inisialisasi pada stack\n",
    "2. Push (data) :digunakan untuk penambahan data pada posisi yang paling atas\n",
    "3. Pop () : digunakan untuk mengambil item pada stack pada tumpukan paling atas \n",
    "4. peek () : digunakan untuk mengecek data yang terakhir\n",
    "5. IsEmpty () : fungsi yang digunakan untuk mengecek apakah stack sudah kosong \n",
    "6. Size () : digunakan untuk mengetahui informasi jumlah data\n"
   ]
  },
  {
   "cell_type": "code",
   "execution_count": 36,
   "metadata": {
    "collapsed": false
   },
   "outputs": [
   ],
   "source": [
    "#fungsi operasi dasar stack\n",
    "def stack() :\n",
    "    s=[]\n",
    "    return (s)\n",
    "def push(s,data) :\n",
    "    s.append(data)\n",
    "    return(data)\n",
    "def pop(s) :\n",
    "    data=s.pop()\n",
    "    return(data)\n",
    "def peek (s) :\n",
    "    return(s[len(s)-1])\n",
    "def IsEmpty (s) :\n",
    "    return (s==[])\n",
    "def size (s) :\n",
    "    return(len(s))"
   ]
  },
  {
   "cell_type": "code",
   "execution_count": 0,
   "metadata": {
    "collapsed": false
   },
   "outputs": [
   ],
   "source": [
   ]
  },
  {
   "cell_type": "markdown",
   "metadata": {
    "collapsed": false
   },
   "source": [
    "## 2. Queue atau Antrian\n",
    "- Merupakan struktur data yangberbanding terbalik dengan stack mempunyai sifat FIFO (first in first out) namun pada dasarnya masih sama yaitu manggunakan list\n",
    "- Contohnya adalah saat kita melakukan pengantrian disebuah kasir "
   ]
  },
  {
   "cell_type": "code",
   "execution_count": 0,
   "metadata": {
    "collapsed": false
   },
   "outputs": [
   ],
   "source": [
    "#Fungsi operasi dasar pada Queue\n",
    "def createQueue():\n",
    "    q = []\n",
    "    return (q)\n",
    "def enqueue(q,data):\n",
    "    q.insert(0,data)\n",
    "    return (q)\n",
    "def dequeue(q):\n",
    "    data=q.pop()\n",
    "    return(data)\n",
    "def rear(q):\n",
    "    return (q[0])\n",
    "def front(q):\n",
    "    return (q[len(q)-1])\n",
    "def size (q):\n",
    "    return (len(q))\n",
    "def isEmpty(q):\n",
    "    return (q==[])"
   ]
  },
  {
   "cell_type": "markdown",
   "metadata": {
    "collapsed": false
   },
   "source": [
    "### Infix, Prefix, dan Postfix"
   ]
  },
  {
   "cell_type": "markdown",
   "metadata": {
    "collapsed": false
   },
   "source": [
    "1. Infix : Operator terdapat diantara operand\n",
    "- contoh : (a+b)*c\n",
    "2. Prefix : Operator terdapat pada kiri operand\n",
    "- contoh : +ab\n",
    "3. postfix : Operator terdapat pada kanan operand\n",
    "- contoh : ab-"
   ]
  },
  {
   "cell_type": "code",
   "execution_count": 0,
   "metadata": {
    "collapsed": false
   },
   "outputs": [
   ],
   "source": [
   ]
  }
 ],
 "metadata": {
  "kernelspec": {
   "display_name": "Python 3 (Ubuntu Linux)",
   "language": "python",
   "name": "python3"
  },
  "language_info": {
   "codemirror_mode": {
    "name": "ipython",
    "version": 3
   },
   "file_extension": ".py",
   "mimetype": "text/x-python",
   "name": "python",
   "nbconvert_exporter": "python",
   "pygments_lexer": "ipython3",
   "version": "3.6.7"
  }
 },
 "nbformat": 4,
 "nbformat_minor": 0
}